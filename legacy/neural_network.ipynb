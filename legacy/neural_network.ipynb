{
 "cells": [
  {
   "cell_type": "code",
   "execution_count": 579,
   "metadata": {},
   "outputs": [],
   "source": [
    "import tensorflow as tf\n",
    "import yfinance as yf\n",
    "import pandas as pd"
   ]
  },
  {
   "cell_type": "code",
   "execution_count": 580,
   "metadata": {},
   "outputs": [
    {
     "data": {
      "text/plain": [
       "0    2010-06-29 00:00:00-04:00\n",
       "1    2010-06-30 00:00:00-04:00\n",
       "2    2010-07-01 00:00:00-04:00\n",
       "3    2010-07-02 00:00:00-04:00\n",
       "4    2010-07-06 00:00:00-04:00\n",
       "Name: Date, dtype: object"
      ]
     },
     "execution_count": 580,
     "metadata": {},
     "output_type": "execute_result"
    }
   ],
   "source": [
    "from sklearn.model_selection import train_test_split\n",
    "\n",
    "\n",
    "tickerName = \"TSLA\"\n",
    "ticker = yf.Ticker(tickerName)\n",
    "df = ticker.history(period = \"max\", interval = \"1d\")\n",
    "df = df.drop(['Dividends', 'Stock Splits'], axis = 1)\n",
    "df.to_csv(f\"./stock_data/{tickerName}.csv\")\n",
    "df = pd.read_csv(f\"./stock_data/{tickerName}.csv\")\n",
    "\n",
    "'''df = df.assign(**{'Open(t-1)': df['Open'].shift(-1)},\n",
    "                **{'Close(t-1)': df['Close'].shift(-1)},\n",
    "                **{'High(t-1)': df['High'].shift(-1)},\n",
    "                **{'Low(t-1)': df['Low'].shift(-1)},\n",
    "                **{'Volume(t-1)': df['Volume'].shift(-1)},\n",
    "                **{'Open(t-2)': df['Open'].shift(-2)},\n",
    "                **{'Close(t-2)': df['Close'].shift(-2)},\n",
    "                **{'High(t-2)': df['High'].shift(-2)},\n",
    "                **{'Low(t-2)': df['Low'].shift(-2)},\n",
    "                **{'Volume(t-2)': df['Volume'].shift(-2)},\n",
    "                **{'Open(t-3)': df['Open'].shift(-3)},\n",
    "                **{'Close(t-3)': df['Close'].shift(-3)},\n",
    "                **{'High(t-3)': df['High'].shift(-3)},\n",
    "                **{'Low(t-3)': df['Low'].shift(-3)},\n",
    "                **{'Volume(t-3)': df['Volume'].shift(-3)})\n",
    "\n",
    "df = df.drop(['High', 'Low', \"Volume\"], axis = 1)\n",
    "x = df[['Open',\n",
    "        'Open(t-1)', 'Close(t-1)', 'High(t-1)', 'Low(t-1)', 'Volume(t-1)',\n",
    "        'Open(t-2)', 'Close(t-2)', 'High(t-2)', 'Low(t-2)', 'Volume(t-2)',\n",
    "        'Open(t-3)', 'Close(t-3)', 'High(t-3)', 'Low(t-3)', 'Volume(t-3)']].values\n",
    "y = df['Close'].values\n",
    "'''\n",
    "\n",
    "df = df.dropna()\n",
    "df = df.copy()\n",
    "\n",
    "df['Date'].head()"
   ]
  },
  {
   "cell_type": "code",
   "execution_count": 581,
   "metadata": {},
   "outputs": [
    {
     "name": "stderr",
     "output_type": "stream",
     "text": [
      "C:\\Users\\Tony\\AppData\\Local\\Temp\\ipykernel_12420\\2332514939.py:1: FutureWarning: In a future version of pandas, parsing datetimes with mixed time zones will raise an error unless `utc=True`. Please specify `utc=True` to opt in to the new behaviour and silence this warning. To create a `Series` with mixed offsets and `object` dtype, please use `apply` and `datetime.datetime.strptime`\n",
      "  df.index = pd.to_datetime(df['Date'])\n"
     ]
    }
   ],
   "source": [
    "df.index = pd.to_datetime(df['Date'])\n",
    "open = df['Open']"
   ]
  },
  {
   "cell_type": "code",
   "execution_count": 582,
   "metadata": {},
   "outputs": [],
   "source": [
    "import numpy as np\n",
    "def df_to_x_y(df, window_size):\n",
    "    x = []\n",
    "    y = []\n",
    "    \n",
    "    # Use multiple features (e.g., Open, Close, High, Low, Volume)\n",
    "    features = ['Open', 'Close', 'High', 'Low', 'Volume']\n",
    "    df_as_np = df[features].to_numpy()  # Use these features for input\n",
    "    \n",
    "    for i in range(len(df_as_np) - window_size):\n",
    "        row = df_as_np[i:i+window_size]  # Create the sequence of multiple features\n",
    "        x.append(row)\n",
    "        label = df_as_np[i+window_size, 0]  # Predict the 'Open' price (or another feature)\n",
    "        y.append(label)\n",
    "        \n",
    "    return np.array(x), np.array(y)"
   ]
  },
  {
   "cell_type": "code",
   "execution_count": 583,
   "metadata": {},
   "outputs": [
    {
     "data": {
      "text/plain": [
       "((3637, 30, 5), (3637,))"
      ]
     },
     "execution_count": 583,
     "metadata": {},
     "output_type": "execute_result"
    }
   ],
   "source": [
    "x, y = df_to_x_y(df,30)\n",
    "x.shape,y.shape"
   ]
  },
  {
   "cell_type": "code",
   "execution_count": 584,
   "metadata": {},
   "outputs": [],
   "source": [
    "x_train,y_train = x[:2500],y[:2500]\n",
    "x_val,y_val = x[2500:3000],y[2500:3000]\n",
    "x_test,y_test = x[3000:],y[3000:]\n",
    "\n",
    "y_train = np.expand_dims(y_train, axis=-1)  # Now shape is (3637, 1)\n",
    "y_val = np.expand_dims(y_val, axis=-1)\n",
    "y_test = np.expand_dims(y_test, axis=-1)\n",
    "\n",
    "from sklearn.preprocessing import StandardScaler\n",
    "\n",
    "scaler = StandardScaler()\n",
    "\n",
    "# Normalize the data (here `x_train`, `x_val`, `x_test` should have shape (samples, features))\n",
    "x_train_standard = scaler.fit_transform(x_train.reshape(-1, x_train.shape[-1]))  # Flatten for standard scaling\n",
    "x_val_standard = scaler.transform(x_val.reshape(-1, x_val.shape[-1]))\n",
    "x_test_standard = scaler.transform(x_test.reshape(-1, x_test.shape[-1]))\n",
    "\n",
    "# Reshape back to 3D array\n",
    "x_train_standard = x_train_standard.reshape(-1, x_train.shape[1], x_train.shape[2])\n",
    "x_val_standard = x_val_standard.reshape(-1, x_val.shape[1], x_val.shape[2])\n",
    "x_test_standard = x_test_standard.reshape(-1, x_test.shape[1], x_test.shape[2])\n",
    "\n",
    "# Initialize the scaler for y\n",
    "scaler_y = StandardScaler()\n",
    "\n",
    "# Fit the scaler on y_train and transform it\n",
    "y_train_scaled = scaler_y.fit_transform(y_train.reshape(-1, 1))\n",
    "\n",
    "# Transform y_val and y_test using the fitted scaler (do not fit again)\n",
    "y_val_scaled = scaler_y.transform(y_val.reshape(-1, 1))\n",
    "y_test_scaled = scaler_y.transform(y_test.reshape(-1, 1))\n"
   ]
  },
  {
   "cell_type": "code",
   "execution_count": 585,
   "metadata": {},
   "outputs": [
    {
     "name": "stdout",
     "output_type": "stream",
     "text": [
      "2.19.0-dev20250121\n"
     ]
    }
   ],
   "source": [
    "import tensorflow as tf\n",
    "print(tf.__version__)"
   ]
  },
  {
   "cell_type": "code",
   "execution_count": 586,
   "metadata": {},
   "outputs": [
    {
     "name": "stderr",
     "output_type": "stream",
     "text": [
      "c:\\Users\\Tony\\AppData\\Local\\Programs\\Python\\Python311\\Lib\\site-packages\\keras\\src\\layers\\core\\input_layer.py:27: UserWarning: Argument `input_shape` is deprecated. Use `shape` instead.\n",
      "  warnings.warn(\n"
     ]
    },
    {
     "data": {
      "text/html": [
       "<pre style=\"white-space:pre;overflow-x:auto;line-height:normal;font-family:Menlo,'DejaVu Sans Mono',consolas,'Courier New',monospace\"><span style=\"font-weight: bold\">Model: \"sequential_48\"</span>\n",
       "</pre>\n"
      ],
      "text/plain": [
       "\u001b[1mModel: \"sequential_48\"\u001b[0m\n"
      ]
     },
     "metadata": {},
     "output_type": "display_data"
    },
    {
     "data": {
      "text/html": [
       "<pre style=\"white-space:pre;overflow-x:auto;line-height:normal;font-family:Menlo,'DejaVu Sans Mono',consolas,'Courier New',monospace\">┏━━━━━━━━━━━━━━━━━━━━━━━━━━━━━━━━━┳━━━━━━━━━━━━━━━━━━━━━━━━┳━━━━━━━━━━━━━━━┓\n",
       "┃<span style=\"font-weight: bold\"> Layer (type)                    </span>┃<span style=\"font-weight: bold\"> Output Shape           </span>┃<span style=\"font-weight: bold\">       Param # </span>┃\n",
       "┡━━━━━━━━━━━━━━━━━━━━━━━━━━━━━━━━━╇━━━━━━━━━━━━━━━━━━━━━━━━╇━━━━━━━━━━━━━━━┩\n",
       "│ lstm_52 (<span style=\"color: #0087ff; text-decoration-color: #0087ff\">LSTM</span>)                  │ (<span style=\"color: #00d7ff; text-decoration-color: #00d7ff\">None</span>, <span style=\"color: #00af00; text-decoration-color: #00af00\">128</span>)            │        <span style=\"color: #00af00; text-decoration-color: #00af00\">68,608</span> │\n",
       "├─────────────────────────────────┼────────────────────────┼───────────────┤\n",
       "│ batch_normalization_15          │ (<span style=\"color: #00d7ff; text-decoration-color: #00d7ff\">None</span>, <span style=\"color: #00af00; text-decoration-color: #00af00\">128</span>)            │           <span style=\"color: #00af00; text-decoration-color: #00af00\">512</span> │\n",
       "│ (<span style=\"color: #0087ff; text-decoration-color: #0087ff\">BatchNormalization</span>)            │                        │               │\n",
       "├─────────────────────────────────┼────────────────────────┼───────────────┤\n",
       "│ dense_90 (<span style=\"color: #0087ff; text-decoration-color: #0087ff\">Dense</span>)                │ (<span style=\"color: #00d7ff; text-decoration-color: #00d7ff\">None</span>, <span style=\"color: #00af00; text-decoration-color: #00af00\">32</span>)             │         <span style=\"color: #00af00; text-decoration-color: #00af00\">4,128</span> │\n",
       "├─────────────────────────────────┼────────────────────────┼───────────────┤\n",
       "│ dense_91 (<span style=\"color: #0087ff; text-decoration-color: #0087ff\">Dense</span>)                │ (<span style=\"color: #00d7ff; text-decoration-color: #00d7ff\">None</span>, <span style=\"color: #00af00; text-decoration-color: #00af00\">1</span>)              │            <span style=\"color: #00af00; text-decoration-color: #00af00\">33</span> │\n",
       "└─────────────────────────────────┴────────────────────────┴───────────────┘\n",
       "</pre>\n"
      ],
      "text/plain": [
       "┏━━━━━━━━━━━━━━━━━━━━━━━━━━━━━━━━━┳━━━━━━━━━━━━━━━━━━━━━━━━┳━━━━━━━━━━━━━━━┓\n",
       "┃\u001b[1m \u001b[0m\u001b[1mLayer (type)                   \u001b[0m\u001b[1m \u001b[0m┃\u001b[1m \u001b[0m\u001b[1mOutput Shape          \u001b[0m\u001b[1m \u001b[0m┃\u001b[1m \u001b[0m\u001b[1m      Param #\u001b[0m\u001b[1m \u001b[0m┃\n",
       "┡━━━━━━━━━━━━━━━━━━━━━━━━━━━━━━━━━╇━━━━━━━━━━━━━━━━━━━━━━━━╇━━━━━━━━━━━━━━━┩\n",
       "│ lstm_52 (\u001b[38;5;33mLSTM\u001b[0m)                  │ (\u001b[38;5;45mNone\u001b[0m, \u001b[38;5;34m128\u001b[0m)            │        \u001b[38;5;34m68,608\u001b[0m │\n",
       "├─────────────────────────────────┼────────────────────────┼───────────────┤\n",
       "│ batch_normalization_15          │ (\u001b[38;5;45mNone\u001b[0m, \u001b[38;5;34m128\u001b[0m)            │           \u001b[38;5;34m512\u001b[0m │\n",
       "│ (\u001b[38;5;33mBatchNormalization\u001b[0m)            │                        │               │\n",
       "├─────────────────────────────────┼────────────────────────┼───────────────┤\n",
       "│ dense_90 (\u001b[38;5;33mDense\u001b[0m)                │ (\u001b[38;5;45mNone\u001b[0m, \u001b[38;5;34m32\u001b[0m)             │         \u001b[38;5;34m4,128\u001b[0m │\n",
       "├─────────────────────────────────┼────────────────────────┼───────────────┤\n",
       "│ dense_91 (\u001b[38;5;33mDense\u001b[0m)                │ (\u001b[38;5;45mNone\u001b[0m, \u001b[38;5;34m1\u001b[0m)              │            \u001b[38;5;34m33\u001b[0m │\n",
       "└─────────────────────────────────┴────────────────────────┴───────────────┘\n"
      ]
     },
     "metadata": {},
     "output_type": "display_data"
    },
    {
     "data": {
      "text/html": [
       "<pre style=\"white-space:pre;overflow-x:auto;line-height:normal;font-family:Menlo,'DejaVu Sans Mono',consolas,'Courier New',monospace\"><span style=\"font-weight: bold\"> Total params: </span><span style=\"color: #00af00; text-decoration-color: #00af00\">73,281</span> (286.25 KB)\n",
       "</pre>\n"
      ],
      "text/plain": [
       "\u001b[1m Total params: \u001b[0m\u001b[38;5;34m73,281\u001b[0m (286.25 KB)\n"
      ]
     },
     "metadata": {},
     "output_type": "display_data"
    },
    {
     "data": {
      "text/html": [
       "<pre style=\"white-space:pre;overflow-x:auto;line-height:normal;font-family:Menlo,'DejaVu Sans Mono',consolas,'Courier New',monospace\"><span style=\"font-weight: bold\"> Trainable params: </span><span style=\"color: #00af00; text-decoration-color: #00af00\">73,025</span> (285.25 KB)\n",
       "</pre>\n"
      ],
      "text/plain": [
       "\u001b[1m Trainable params: \u001b[0m\u001b[38;5;34m73,025\u001b[0m (285.25 KB)\n"
      ]
     },
     "metadata": {},
     "output_type": "display_data"
    },
    {
     "data": {
      "text/html": [
       "<pre style=\"white-space:pre;overflow-x:auto;line-height:normal;font-family:Menlo,'DejaVu Sans Mono',consolas,'Courier New',monospace\"><span style=\"font-weight: bold\"> Non-trainable params: </span><span style=\"color: #00af00; text-decoration-color: #00af00\">256</span> (1.00 KB)\n",
       "</pre>\n"
      ],
      "text/plain": [
       "\u001b[1m Non-trainable params: \u001b[0m\u001b[38;5;34m256\u001b[0m (1.00 KB)\n"
      ]
     },
     "metadata": {},
     "output_type": "display_data"
    }
   ],
   "source": [
    "from tensorflow import keras\n",
    "from tensorflow.keras.models import Sequential\n",
    "from tensorflow.keras.layers import *\n",
    "from tensorflow.keras.callbacks import ModelCheckpoint\n",
    "from tensorflow.keras.losses import MeanSquaredError\n",
    "from tensorflow.keras.metrics import RootMeanSquaredError\n",
    "from tensorflow.keras.optimizers import RMSprop\n",
    "from tensorflow.keras.layers import LSTM\n",
    "\n",
    "model1 = Sequential()\n",
    "model1.add(InputLayer(input_shape=(30,5)))\n",
    "model1.add(LSTM(128))\n",
    "model1.add(BatchNormalization())  # Batch normalization after LSTM\n",
    "model1.add(Dense(32, activation=\"relu\"))\n",
    "model1.add(Dense(1, activation=\"linear\"))\n",
    "model1.summary()"
   ]
  },
  {
   "cell_type": "code",
   "execution_count": 587,
   "metadata": {},
   "outputs": [],
   "source": [
    "from tensorflow.keras.optimizers import SGD\n",
    "cp = ModelCheckpoint('model1.h5', save_best_only=True)\n",
    "model1.compile(loss=MeanSquaredError(), optimizer = SGD(learning_rate = 0.0001), metrics=[RootMeanSquaredError()])"
   ]
  },
  {
   "cell_type": "code",
   "execution_count": 588,
   "metadata": {},
   "outputs": [],
   "source": [
    "from tensorflow.python.keras.engine import data_adapter\n",
    "\n",
    "def _is_distributed_dataset(ds):\n",
    "    return isinstance(ds, data_adapter.input_lib.DistributedDatasetSpec)\n",
    "\n",
    "data_adapter._is_distributed_dataset = _is_distributed_dataset"
   ]
  },
  {
   "cell_type": "code",
   "execution_count": 589,
   "metadata": {},
   "outputs": [
    {
     "name": "stdout",
     "output_type": "stream",
     "text": [
      "Epoch 1/100\n",
      "\u001b[1m75/79\u001b[0m \u001b[32m━━━━━━━━━━━━━━━━━━\u001b[0m\u001b[37m━━\u001b[0m \u001b[1m0s\u001b[0m 7ms/step - loss: 0.3253 - root_mean_squared_error: 0.5651"
     ]
    },
    {
     "name": "stderr",
     "output_type": "stream",
     "text": [
      "WARNING:absl:You are saving your model as an HDF5 file via `model.save()` or `keras.saving.save_model(model)`. This file format is considered legacy. We recommend using instead the native Keras format, e.g. `model.save('my_model.keras')` or `keras.saving.save_model(model, 'my_model.keras')`. \n"
     ]
    },
    {
     "name": "stdout",
     "output_type": "stream",
     "text": [
      "\u001b[1m79/79\u001b[0m \u001b[32m━━━━━━━━━━━━━━━━━━━━\u001b[0m\u001b[37m\u001b[0m \u001b[1m1s\u001b[0m 10ms/step - loss: 0.3201 - root_mean_squared_error: 0.5605 - val_loss: 63873.2070 - val_root_mean_squared_error: 252.7315\n",
      "Epoch 2/100\n",
      "\u001b[1m79/79\u001b[0m \u001b[32m━━━━━━━━━━━━━━━━━━━━\u001b[0m\u001b[37m\u001b[0m \u001b[1m1s\u001b[0m 9ms/step - loss: 0.0880 - root_mean_squared_error: 0.2957 - val_loss: 63968.4102 - val_root_mean_squared_error: 252.9198\n",
      "Epoch 3/100\n",
      "\u001b[1m79/79\u001b[0m \u001b[32m━━━━━━━━━━━━━━━━━━━━\u001b[0m\u001b[37m\u001b[0m \u001b[1m1s\u001b[0m 9ms/step - loss: 0.0705 - root_mean_squared_error: 0.2653 - val_loss: 64101.7656 - val_root_mean_squared_error: 253.1833\n",
      "Epoch 4/100\n",
      "\u001b[1m79/79\u001b[0m \u001b[32m━━━━━━━━━━━━━━━━━━━━\u001b[0m\u001b[37m\u001b[0m \u001b[1m1s\u001b[0m 9ms/step - loss: 0.0650 - root_mean_squared_error: 0.2542 - val_loss: 64286.7539 - val_root_mean_squared_error: 253.5483\n",
      "Epoch 5/100\n",
      "\u001b[1m79/79\u001b[0m \u001b[32m━━━━━━━━━━━━━━━━━━━━\u001b[0m\u001b[37m\u001b[0m \u001b[1m1s\u001b[0m 9ms/step - loss: 0.0696 - root_mean_squared_error: 0.2635 - val_loss: 64534.3359 - val_root_mean_squared_error: 254.0361\n",
      "Epoch 6/100\n",
      "\u001b[1m79/79\u001b[0m \u001b[32m━━━━━━━━━━━━━━━━━━━━\u001b[0m\u001b[37m\u001b[0m \u001b[1m1s\u001b[0m 9ms/step - loss: 0.0774 - root_mean_squared_error: 0.2765 - val_loss: 64804.3203 - val_root_mean_squared_error: 254.5669\n",
      "Epoch 7/100\n",
      "\u001b[1m79/79\u001b[0m \u001b[32m━━━━━━━━━━━━━━━━━━━━\u001b[0m\u001b[37m\u001b[0m \u001b[1m1s\u001b[0m 9ms/step - loss: 0.0590 - root_mean_squared_error: 0.2421 - val_loss: 65032.6953 - val_root_mean_squared_error: 255.0151\n",
      "Epoch 8/100\n",
      "\u001b[1m79/79\u001b[0m \u001b[32m━━━━━━━━━━━━━━━━━━━━\u001b[0m\u001b[37m\u001b[0m \u001b[1m1s\u001b[0m 9ms/step - loss: 0.0596 - root_mean_squared_error: 0.2432 - val_loss: 65151.7969 - val_root_mean_squared_error: 255.2485\n",
      "Epoch 9/100\n",
      "\u001b[1m79/79\u001b[0m \u001b[32m━━━━━━━━━━━━━━━━━━━━\u001b[0m\u001b[37m\u001b[0m \u001b[1m1s\u001b[0m 9ms/step - loss: 0.0571 - root_mean_squared_error: 0.2384 - val_loss: 65200.6758 - val_root_mean_squared_error: 255.3442\n",
      "Epoch 10/100\n",
      "\u001b[1m79/79\u001b[0m \u001b[32m━━━━━━━━━━━━━━━━━━━━\u001b[0m\u001b[37m\u001b[0m \u001b[1m1s\u001b[0m 9ms/step - loss: 0.0556 - root_mean_squared_error: 0.2352 - val_loss: 65252.9844 - val_root_mean_squared_error: 255.4466\n",
      "Epoch 11/100\n",
      "\u001b[1m79/79\u001b[0m \u001b[32m━━━━━━━━━━━━━━━━━━━━\u001b[0m\u001b[37m\u001b[0m \u001b[1m1s\u001b[0m 9ms/step - loss: 0.0526 - root_mean_squared_error: 0.2257 - val_loss: 65258.0703 - val_root_mean_squared_error: 255.4566\n",
      "Epoch 12/100\n",
      "\u001b[1m79/79\u001b[0m \u001b[32m━━━━━━━━━━━━━━━━━━━━\u001b[0m\u001b[37m\u001b[0m \u001b[1m1s\u001b[0m 9ms/step - loss: 0.0659 - root_mean_squared_error: 0.2549 - val_loss: 65268.5586 - val_root_mean_squared_error: 255.4771\n",
      "Epoch 13/100\n",
      "\u001b[1m79/79\u001b[0m \u001b[32m━━━━━━━━━━━━━━━━━━━━\u001b[0m\u001b[37m\u001b[0m \u001b[1m1s\u001b[0m 9ms/step - loss: 0.0531 - root_mean_squared_error: 0.2296 - val_loss: 65250.3594 - val_root_mean_squared_error: 255.4415\n",
      "Epoch 14/100\n",
      "\u001b[1m79/79\u001b[0m \u001b[32m━━━━━━━━━━━━━━━━━━━━\u001b[0m\u001b[37m\u001b[0m \u001b[1m1s\u001b[0m 9ms/step - loss: 0.0378 - root_mean_squared_error: 0.1936 - val_loss: 65251.6250 - val_root_mean_squared_error: 255.4440\n",
      "Epoch 15/100\n",
      "\u001b[1m79/79\u001b[0m \u001b[32m━━━━━━━━━━━━━━━━━━━━\u001b[0m\u001b[37m\u001b[0m \u001b[1m1s\u001b[0m 9ms/step - loss: 0.0394 - root_mean_squared_error: 0.1981 - val_loss: 65262.7773 - val_root_mean_squared_error: 255.4658\n",
      "Epoch 16/100\n",
      "\u001b[1m79/79\u001b[0m \u001b[32m━━━━━━━━━━━━━━━━━━━━\u001b[0m\u001b[37m\u001b[0m \u001b[1m1s\u001b[0m 9ms/step - loss: 0.0469 - root_mean_squared_error: 0.2161 - val_loss: 65254.4336 - val_root_mean_squared_error: 255.4495\n",
      "Epoch 17/100\n",
      "\u001b[1m79/79\u001b[0m \u001b[32m━━━━━━━━━━━━━━━━━━━━\u001b[0m\u001b[37m\u001b[0m \u001b[1m1s\u001b[0m 9ms/step - loss: 0.0454 - root_mean_squared_error: 0.2128 - val_loss: 65262.2109 - val_root_mean_squared_error: 255.4647\n",
      "Epoch 18/100\n",
      "\u001b[1m79/79\u001b[0m \u001b[32m━━━━━━━━━━━━━━━━━━━━\u001b[0m\u001b[37m\u001b[0m \u001b[1m1s\u001b[0m 9ms/step - loss: 0.0445 - root_mean_squared_error: 0.2100 - val_loss: 65257.6445 - val_root_mean_squared_error: 255.4558\n",
      "Epoch 19/100\n",
      "\u001b[1m79/79\u001b[0m \u001b[32m━━━━━━━━━━━━━━━━━━━━\u001b[0m\u001b[37m\u001b[0m \u001b[1m1s\u001b[0m 9ms/step - loss: 0.0468 - root_mean_squared_error: 0.2157 - val_loss: 65257.3008 - val_root_mean_squared_error: 255.4551\n",
      "Epoch 20/100\n",
      "\u001b[1m79/79\u001b[0m \u001b[32m━━━━━━━━━━━━━━━━━━━━\u001b[0m\u001b[37m\u001b[0m \u001b[1m1s\u001b[0m 9ms/step - loss: 0.0423 - root_mean_squared_error: 0.2054 - val_loss: 65266.8203 - val_root_mean_squared_error: 255.4737\n",
      "Epoch 21/100\n",
      "\u001b[1m79/79\u001b[0m \u001b[32m━━━━━━━━━━━━━━━━━━━━\u001b[0m\u001b[37m\u001b[0m \u001b[1m1s\u001b[0m 9ms/step - loss: 0.0572 - root_mean_squared_error: 0.2360 - val_loss: 65250.6289 - val_root_mean_squared_error: 255.4420\n",
      "Epoch 22/100\n",
      "\u001b[1m79/79\u001b[0m \u001b[32m━━━━━━━━━━━━━━━━━━━━\u001b[0m\u001b[37m\u001b[0m \u001b[1m1s\u001b[0m 9ms/step - loss: 0.0416 - root_mean_squared_error: 0.2029 - val_loss: 65234.5938 - val_root_mean_squared_error: 255.4106\n",
      "Epoch 23/100\n",
      "\u001b[1m79/79\u001b[0m \u001b[32m━━━━━━━━━━━━━━━━━━━━\u001b[0m\u001b[37m\u001b[0m \u001b[1m1s\u001b[0m 9ms/step - loss: 0.0623 - root_mean_squared_error: 0.2472 - val_loss: 65235.0156 - val_root_mean_squared_error: 255.4115\n",
      "Epoch 24/100\n",
      "\u001b[1m79/79\u001b[0m \u001b[32m━━━━━━━━━━━━━━━━━━━━\u001b[0m\u001b[37m\u001b[0m \u001b[1m1s\u001b[0m 9ms/step - loss: 0.0398 - root_mean_squared_error: 0.1986 - val_loss: 65209.7266 - val_root_mean_squared_error: 255.3620\n",
      "Epoch 25/100\n",
      "\u001b[1m79/79\u001b[0m \u001b[32m━━━━━━━━━━━━━━━━━━━━\u001b[0m\u001b[37m\u001b[0m \u001b[1m1s\u001b[0m 9ms/step - loss: 0.0330 - root_mean_squared_error: 0.1814 - val_loss: 65197.7578 - val_root_mean_squared_error: 255.3385\n",
      "Epoch 26/100\n",
      "\u001b[1m79/79\u001b[0m \u001b[32m━━━━━━━━━━━━━━━━━━━━\u001b[0m\u001b[37m\u001b[0m \u001b[1m1s\u001b[0m 9ms/step - loss: 0.0374 - root_mean_squared_error: 0.1925 - val_loss: 65161.0430 - val_root_mean_squared_error: 255.2666\n",
      "Epoch 27/100\n",
      "\u001b[1m79/79\u001b[0m \u001b[32m━━━━━━━━━━━━━━━━━━━━\u001b[0m\u001b[37m\u001b[0m \u001b[1m1s\u001b[0m 9ms/step - loss: 0.0572 - root_mean_squared_error: 0.2331 - val_loss: 65151.6172 - val_root_mean_squared_error: 255.2482\n",
      "Epoch 28/100\n",
      "\u001b[1m79/79\u001b[0m \u001b[32m━━━━━━━━━━━━━━━━━━━━\u001b[0m\u001b[37m\u001b[0m \u001b[1m1s\u001b[0m 9ms/step - loss: 0.0368 - root_mean_squared_error: 0.1916 - val_loss: 65132.7812 - val_root_mean_squared_error: 255.2112\n",
      "Epoch 29/100\n",
      "\u001b[1m79/79\u001b[0m \u001b[32m━━━━━━━━━━━━━━━━━━━━\u001b[0m\u001b[37m\u001b[0m \u001b[1m1s\u001b[0m 9ms/step - loss: 0.0321 - root_mean_squared_error: 0.1785 - val_loss: 65127.7891 - val_root_mean_squared_error: 255.2015\n",
      "Epoch 30/100\n",
      "\u001b[1m79/79\u001b[0m \u001b[32m━━━━━━━━━━━━━━━━━━━━\u001b[0m\u001b[37m\u001b[0m \u001b[1m1s\u001b[0m 9ms/step - loss: 0.0343 - root_mean_squared_error: 0.1849 - val_loss: 65120.5859 - val_root_mean_squared_error: 255.1873\n",
      "Epoch 31/100\n",
      "\u001b[1m79/79\u001b[0m \u001b[32m━━━━━━━━━━━━━━━━━━━━\u001b[0m\u001b[37m\u001b[0m \u001b[1m1s\u001b[0m 9ms/step - loss: 0.0351 - root_mean_squared_error: 0.1870 - val_loss: 65114.4453 - val_root_mean_squared_error: 255.1753\n",
      "Epoch 32/100\n",
      "\u001b[1m79/79\u001b[0m \u001b[32m━━━━━━━━━━━━━━━━━━━━\u001b[0m\u001b[37m\u001b[0m \u001b[1m1s\u001b[0m 9ms/step - loss: 0.0436 - root_mean_squared_error: 0.2072 - val_loss: 65099.1328 - val_root_mean_squared_error: 255.1453\n",
      "Epoch 33/100\n",
      "\u001b[1m79/79\u001b[0m \u001b[32m━━━━━━━━━━━━━━━━━━━━\u001b[0m\u001b[37m\u001b[0m \u001b[1m1s\u001b[0m 9ms/step - loss: 0.0449 - root_mean_squared_error: 0.2110 - val_loss: 65087.2227 - val_root_mean_squared_error: 255.1220\n",
      "Epoch 34/100\n",
      "\u001b[1m79/79\u001b[0m \u001b[32m━━━━━━━━━━━━━━━━━━━━\u001b[0m\u001b[37m\u001b[0m \u001b[1m1s\u001b[0m 9ms/step - loss: 0.0335 - root_mean_squared_error: 0.1827 - val_loss: 65053.4141 - val_root_mean_squared_error: 255.0557\n",
      "Epoch 35/100\n",
      "\u001b[1m79/79\u001b[0m \u001b[32m━━━━━━━━━━━━━━━━━━━━\u001b[0m\u001b[37m\u001b[0m \u001b[1m1s\u001b[0m 9ms/step - loss: 0.0417 - root_mean_squared_error: 0.2036 - val_loss: 65064.0391 - val_root_mean_squared_error: 255.0765\n",
      "Epoch 36/100\n",
      "\u001b[1m79/79\u001b[0m \u001b[32m━━━━━━━━━━━━━━━━━━━━\u001b[0m\u001b[37m\u001b[0m \u001b[1m1s\u001b[0m 9ms/step - loss: 0.0350 - root_mean_squared_error: 0.1867 - val_loss: 65060.3789 - val_root_mean_squared_error: 255.0694\n",
      "Epoch 37/100\n",
      "\u001b[1m79/79\u001b[0m \u001b[32m━━━━━━━━━━━━━━━━━━━━\u001b[0m\u001b[37m\u001b[0m \u001b[1m1s\u001b[0m 9ms/step - loss: 0.0560 - root_mean_squared_error: 0.2332 - val_loss: 65061.9258 - val_root_mean_squared_error: 255.0724\n",
      "Epoch 38/100\n",
      "\u001b[1m79/79\u001b[0m \u001b[32m━━━━━━━━━━━━━━━━━━━━\u001b[0m\u001b[37m\u001b[0m \u001b[1m1s\u001b[0m 9ms/step - loss: 0.0358 - root_mean_squared_error: 0.1888 - val_loss: 65058.4688 - val_root_mean_squared_error: 255.0656\n",
      "Epoch 39/100\n",
      "\u001b[1m79/79\u001b[0m \u001b[32m━━━━━━━━━━━━━━━━━━━━\u001b[0m\u001b[37m\u001b[0m \u001b[1m1s\u001b[0m 9ms/step - loss: 0.0348 - root_mean_squared_error: 0.1855 - val_loss: 65062.7305 - val_root_mean_squared_error: 255.0740\n",
      "Epoch 40/100\n",
      "\u001b[1m79/79\u001b[0m \u001b[32m━━━━━━━━━━━━━━━━━━━━\u001b[0m\u001b[37m\u001b[0m \u001b[1m1s\u001b[0m 9ms/step - loss: 0.0368 - root_mean_squared_error: 0.1911 - val_loss: 65058.8711 - val_root_mean_squared_error: 255.0664\n",
      "Epoch 41/100\n",
      "\u001b[1m79/79\u001b[0m \u001b[32m━━━━━━━━━━━━━━━━━━━━\u001b[0m\u001b[37m\u001b[0m \u001b[1m1s\u001b[0m 9ms/step - loss: 0.0416 - root_mean_squared_error: 0.2022 - val_loss: 65061.4844 - val_root_mean_squared_error: 255.0715\n",
      "Epoch 42/100\n",
      "\u001b[1m79/79\u001b[0m \u001b[32m━━━━━━━━━━━━━━━━━━━━\u001b[0m\u001b[37m\u001b[0m \u001b[1m1s\u001b[0m 9ms/step - loss: 0.0310 - root_mean_squared_error: 0.1760 - val_loss: 65049.6719 - val_root_mean_squared_error: 255.0484\n",
      "Epoch 43/100\n",
      "\u001b[1m79/79\u001b[0m \u001b[32m━━━━━━━━━━━━━━━━━━━━\u001b[0m\u001b[37m\u001b[0m \u001b[1m1s\u001b[0m 9ms/step - loss: 0.0401 - root_mean_squared_error: 0.1999 - val_loss: 65048.0547 - val_root_mean_squared_error: 255.0452\n",
      "Epoch 44/100\n",
      "\u001b[1m79/79\u001b[0m \u001b[32m━━━━━━━━━━━━━━━━━━━━\u001b[0m\u001b[37m\u001b[0m \u001b[1m1s\u001b[0m 9ms/step - loss: 0.0337 - root_mean_squared_error: 0.1829 - val_loss: 65040.3594 - val_root_mean_squared_error: 255.0301\n",
      "Epoch 45/100\n",
      "\u001b[1m79/79\u001b[0m \u001b[32m━━━━━━━━━━━━━━━━━━━━\u001b[0m\u001b[37m\u001b[0m \u001b[1m1s\u001b[0m 9ms/step - loss: 0.0467 - root_mean_squared_error: 0.2139 - val_loss: 65026.4609 - val_root_mean_squared_error: 255.0029\n",
      "Epoch 46/100\n",
      "\u001b[1m79/79\u001b[0m \u001b[32m━━━━━━━━━━━━━━━━━━━━\u001b[0m\u001b[37m\u001b[0m \u001b[1m1s\u001b[0m 9ms/step - loss: 0.0324 - root_mean_squared_error: 0.1792 - val_loss: 65041.5195 - val_root_mean_squared_error: 255.0324\n",
      "Epoch 47/100\n",
      "\u001b[1m79/79\u001b[0m \u001b[32m━━━━━━━━━━━━━━━━━━━━\u001b[0m\u001b[37m\u001b[0m \u001b[1m1s\u001b[0m 9ms/step - loss: 0.0291 - root_mean_squared_error: 0.1698 - val_loss: 65035.0508 - val_root_mean_squared_error: 255.0197\n",
      "Epoch 48/100\n",
      "\u001b[1m79/79\u001b[0m \u001b[32m━━━━━━━━━━━━━━━━━━━━\u001b[0m\u001b[37m\u001b[0m \u001b[1m1s\u001b[0m 9ms/step - loss: 0.0271 - root_mean_squared_error: 0.1641 - val_loss: 65037.1914 - val_root_mean_squared_error: 255.0239\n",
      "Epoch 49/100\n",
      "\u001b[1m79/79\u001b[0m \u001b[32m━━━━━━━━━━━━━━━━━━━━\u001b[0m\u001b[37m\u001b[0m \u001b[1m1s\u001b[0m 9ms/step - loss: 0.0394 - root_mean_squared_error: 0.1978 - val_loss: 65036.6172 - val_root_mean_squared_error: 255.0228\n",
      "Epoch 50/100\n",
      "\u001b[1m79/79\u001b[0m \u001b[32m━━━━━━━━━━━━━━━━━━━━\u001b[0m\u001b[37m\u001b[0m \u001b[1m1s\u001b[0m 9ms/step - loss: 0.0392 - root_mean_squared_error: 0.1972 - val_loss: 65036.5664 - val_root_mean_squared_error: 255.0227\n",
      "Epoch 51/100\n",
      "\u001b[1m79/79\u001b[0m \u001b[32m━━━━━━━━━━━━━━━━━━━━\u001b[0m\u001b[37m\u001b[0m \u001b[1m1s\u001b[0m 9ms/step - loss: 0.0419 - root_mean_squared_error: 0.2043 - val_loss: 65055.9531 - val_root_mean_squared_error: 255.0607\n",
      "Epoch 52/100\n",
      "\u001b[1m79/79\u001b[0m \u001b[32m━━━━━━━━━━━━━━━━━━━━\u001b[0m\u001b[37m\u001b[0m \u001b[1m1s\u001b[0m 9ms/step - loss: 0.0378 - root_mean_squared_error: 0.1940 - val_loss: 65062.9219 - val_root_mean_squared_error: 255.0743\n",
      "Epoch 53/100\n",
      "\u001b[1m79/79\u001b[0m \u001b[32m━━━━━━━━━━━━━━━━━━━━\u001b[0m\u001b[37m\u001b[0m \u001b[1m1s\u001b[0m 9ms/step - loss: 0.0293 - root_mean_squared_error: 0.1709 - val_loss: 65034.9805 - val_root_mean_squared_error: 255.0196\n",
      "Epoch 54/100\n",
      "\u001b[1m79/79\u001b[0m \u001b[32m━━━━━━━━━━━━━━━━━━━━\u001b[0m\u001b[37m\u001b[0m \u001b[1m1s\u001b[0m 9ms/step - loss: 0.0272 - root_mean_squared_error: 0.1642 - val_loss: 65009.1406 - val_root_mean_squared_error: 254.9689\n",
      "Epoch 55/100\n",
      "\u001b[1m79/79\u001b[0m \u001b[32m━━━━━━━━━━━━━━━━━━━━\u001b[0m\u001b[37m\u001b[0m \u001b[1m1s\u001b[0m 9ms/step - loss: 0.0350 - root_mean_squared_error: 0.1868 - val_loss: 65042.5391 - val_root_mean_squared_error: 255.0344\n",
      "Epoch 56/100\n",
      "\u001b[1m79/79\u001b[0m \u001b[32m━━━━━━━━━━━━━━━━━━━━\u001b[0m\u001b[37m\u001b[0m \u001b[1m1s\u001b[0m 9ms/step - loss: 0.0237 - root_mean_squared_error: 0.1531 - val_loss: 65032.1016 - val_root_mean_squared_error: 255.0139\n",
      "Epoch 57/100\n",
      "\u001b[1m79/79\u001b[0m \u001b[32m━━━━━━━━━━━━━━━━━━━━\u001b[0m\u001b[37m\u001b[0m \u001b[1m1s\u001b[0m 9ms/step - loss: 0.0397 - root_mean_squared_error: 0.1989 - val_loss: 65074.1055 - val_root_mean_squared_error: 255.0963\n",
      "Epoch 58/100\n",
      "\u001b[1m79/79\u001b[0m \u001b[32m━━━━━━━━━━━━━━━━━━━━\u001b[0m\u001b[37m\u001b[0m \u001b[1m1s\u001b[0m 9ms/step - loss: 0.0351 - root_mean_squared_error: 0.1863 - val_loss: 65075.7266 - val_root_mean_squared_error: 255.0994\n",
      "Epoch 59/100\n",
      "\u001b[1m79/79\u001b[0m \u001b[32m━━━━━━━━━━━━━━━━━━━━\u001b[0m\u001b[37m\u001b[0m \u001b[1m1s\u001b[0m 9ms/step - loss: 0.0326 - root_mean_squared_error: 0.1803 - val_loss: 65087.4727 - val_root_mean_squared_error: 255.1225\n",
      "Epoch 60/100\n",
      "\u001b[1m79/79\u001b[0m \u001b[32m━━━━━━━━━━━━━━━━━━━━\u001b[0m\u001b[37m\u001b[0m \u001b[1m1s\u001b[0m 9ms/step - loss: 0.0339 - root_mean_squared_error: 0.1836 - val_loss: 65090.4688 - val_root_mean_squared_error: 255.1283\n",
      "Epoch 61/100\n",
      "\u001b[1m79/79\u001b[0m \u001b[32m━━━━━━━━━━━━━━━━━━━━\u001b[0m\u001b[37m\u001b[0m \u001b[1m1s\u001b[0m 9ms/step - loss: 0.0352 - root_mean_squared_error: 0.1872 - val_loss: 65088.5000 - val_root_mean_squared_error: 255.1245\n",
      "Epoch 62/100\n",
      "\u001b[1m79/79\u001b[0m \u001b[32m━━━━━━━━━━━━━━━━━━━━\u001b[0m\u001b[37m\u001b[0m \u001b[1m1s\u001b[0m 9ms/step - loss: 0.0299 - root_mean_squared_error: 0.1720 - val_loss: 65076.6914 - val_root_mean_squared_error: 255.1013\n",
      "Epoch 63/100\n",
      "\u001b[1m79/79\u001b[0m \u001b[32m━━━━━━━━━━━━━━━━━━━━\u001b[0m\u001b[37m\u001b[0m \u001b[1m1s\u001b[0m 9ms/step - loss: 0.0371 - root_mean_squared_error: 0.1919 - val_loss: 65092.3984 - val_root_mean_squared_error: 255.1321\n",
      "Epoch 64/100\n",
      "\u001b[1m79/79\u001b[0m \u001b[32m━━━━━━━━━━━━━━━━━━━━\u001b[0m\u001b[37m\u001b[0m \u001b[1m1s\u001b[0m 9ms/step - loss: 0.0260 - root_mean_squared_error: 0.1610 - val_loss: 65080.7852 - val_root_mean_squared_error: 255.1094\n",
      "Epoch 65/100\n",
      "\u001b[1m79/79\u001b[0m \u001b[32m━━━━━━━━━━━━━━━━━━━━\u001b[0m\u001b[37m\u001b[0m \u001b[1m1s\u001b[0m 9ms/step - loss: 0.0356 - root_mean_squared_error: 0.1870 - val_loss: 65085.0781 - val_root_mean_squared_error: 255.1178\n",
      "Epoch 66/100\n",
      "\u001b[1m79/79\u001b[0m \u001b[32m━━━━━━━━━━━━━━━━━━━━\u001b[0m\u001b[37m\u001b[0m \u001b[1m1s\u001b[0m 9ms/step - loss: 0.0310 - root_mean_squared_error: 0.1757 - val_loss: 65070.0430 - val_root_mean_squared_error: 255.0883\n",
      "Epoch 67/100\n",
      "\u001b[1m79/79\u001b[0m \u001b[32m━━━━━━━━━━━━━━━━━━━━\u001b[0m\u001b[37m\u001b[0m \u001b[1m1s\u001b[0m 9ms/step - loss: 0.0320 - root_mean_squared_error: 0.1784 - val_loss: 65072.4844 - val_root_mean_squared_error: 255.0931\n",
      "Epoch 68/100\n",
      "\u001b[1m79/79\u001b[0m \u001b[32m━━━━━━━━━━━━━━━━━━━━\u001b[0m\u001b[37m\u001b[0m \u001b[1m1s\u001b[0m 9ms/step - loss: 0.0263 - root_mean_squared_error: 0.1620 - val_loss: 65080.0352 - val_root_mean_squared_error: 255.1079\n",
      "Epoch 69/100\n",
      "\u001b[1m79/79\u001b[0m \u001b[32m━━━━━━━━━━━━━━━━━━━━\u001b[0m\u001b[37m\u001b[0m \u001b[1m1s\u001b[0m 9ms/step - loss: 0.0268 - root_mean_squared_error: 0.1633 - val_loss: 65064.2031 - val_root_mean_squared_error: 255.0769\n",
      "Epoch 70/100\n",
      "\u001b[1m79/79\u001b[0m \u001b[32m━━━━━━━━━━━━━━━━━━━━\u001b[0m\u001b[37m\u001b[0m \u001b[1m1s\u001b[0m 9ms/step - loss: 0.0289 - root_mean_squared_error: 0.1699 - val_loss: 65093.3711 - val_root_mean_squared_error: 255.1340\n",
      "Epoch 71/100\n",
      "\u001b[1m79/79\u001b[0m \u001b[32m━━━━━━━━━━━━━━━━━━━━\u001b[0m\u001b[37m\u001b[0m \u001b[1m1s\u001b[0m 9ms/step - loss: 0.0272 - root_mean_squared_error: 0.1645 - val_loss: 65110.2031 - val_root_mean_squared_error: 255.1670\n",
      "Epoch 72/100\n",
      "\u001b[1m79/79\u001b[0m \u001b[32m━━━━━━━━━━━━━━━━━━━━\u001b[0m\u001b[37m\u001b[0m \u001b[1m1s\u001b[0m 9ms/step - loss: 0.0308 - root_mean_squared_error: 0.1747 - val_loss: 65112.9844 - val_root_mean_squared_error: 255.1725\n",
      "Epoch 73/100\n",
      "\u001b[1m79/79\u001b[0m \u001b[32m━━━━━━━━━━━━━━━━━━━━\u001b[0m\u001b[37m\u001b[0m \u001b[1m1s\u001b[0m 9ms/step - loss: 0.0265 - root_mean_squared_error: 0.1622 - val_loss: 65095.7656 - val_root_mean_squared_error: 255.1387\n",
      "Epoch 74/100\n",
      "\u001b[1m79/79\u001b[0m \u001b[32m━━━━━━━━━━━━━━━━━━━━\u001b[0m\u001b[37m\u001b[0m \u001b[1m1s\u001b[0m 9ms/step - loss: 0.0281 - root_mean_squared_error: 0.1669 - val_loss: 65123.2188 - val_root_mean_squared_error: 255.1925\n",
      "Epoch 75/100\n",
      "\u001b[1m79/79\u001b[0m \u001b[32m━━━━━━━━━━━━━━━━━━━━\u001b[0m\u001b[37m\u001b[0m \u001b[1m1s\u001b[0m 9ms/step - loss: 0.0244 - root_mean_squared_error: 0.1559 - val_loss: 65117.7383 - val_root_mean_squared_error: 255.1818\n",
      "Epoch 76/100\n",
      "\u001b[1m79/79\u001b[0m \u001b[32m━━━━━━━━━━━━━━━━━━━━\u001b[0m\u001b[37m\u001b[0m \u001b[1m1s\u001b[0m 9ms/step - loss: 0.0265 - root_mean_squared_error: 0.1624 - val_loss: 65124.1328 - val_root_mean_squared_error: 255.1943\n",
      "Epoch 77/100\n",
      "\u001b[1m79/79\u001b[0m \u001b[32m━━━━━━━━━━━━━━━━━━━━\u001b[0m\u001b[37m\u001b[0m \u001b[1m1s\u001b[0m 9ms/step - loss: 0.0244 - root_mean_squared_error: 0.1553 - val_loss: 65133.1562 - val_root_mean_squared_error: 255.2120\n",
      "Epoch 78/100\n",
      "\u001b[1m79/79\u001b[0m \u001b[32m━━━━━━━━━━━━━━━━━━━━\u001b[0m\u001b[37m\u001b[0m \u001b[1m1s\u001b[0m 9ms/step - loss: 0.0282 - root_mean_squared_error: 0.1674 - val_loss: 65118.7891 - val_root_mean_squared_error: 255.1838\n",
      "Epoch 79/100\n",
      "\u001b[1m79/79\u001b[0m \u001b[32m━━━━━━━━━━━━━━━━━━━━\u001b[0m\u001b[37m\u001b[0m \u001b[1m1s\u001b[0m 9ms/step - loss: 0.0308 - root_mean_squared_error: 0.1747 - val_loss: 65145.4141 - val_root_mean_squared_error: 255.2360\n",
      "Epoch 80/100\n",
      "\u001b[1m79/79\u001b[0m \u001b[32m━━━━━━━━━━━━━━━━━━━━\u001b[0m\u001b[37m\u001b[0m \u001b[1m1s\u001b[0m 9ms/step - loss: 0.0316 - root_mean_squared_error: 0.1771 - val_loss: 65150.7617 - val_root_mean_squared_error: 255.2465\n",
      "Epoch 81/100\n",
      "\u001b[1m79/79\u001b[0m \u001b[32m━━━━━━━━━━━━━━━━━━━━\u001b[0m\u001b[37m\u001b[0m \u001b[1m1s\u001b[0m 9ms/step - loss: 0.0303 - root_mean_squared_error: 0.1737 - val_loss: 65155.5469 - val_root_mean_squared_error: 255.2558\n",
      "Epoch 82/100\n",
      "\u001b[1m79/79\u001b[0m \u001b[32m━━━━━━━━━━━━━━━━━━━━\u001b[0m\u001b[37m\u001b[0m \u001b[1m1s\u001b[0m 9ms/step - loss: 0.0281 - root_mean_squared_error: 0.1670 - val_loss: 65144.0977 - val_root_mean_squared_error: 255.2334\n",
      "Epoch 83/100\n",
      "\u001b[1m79/79\u001b[0m \u001b[32m━━━━━━━━━━━━━━━━━━━━\u001b[0m\u001b[37m\u001b[0m \u001b[1m1s\u001b[0m 9ms/step - loss: 0.0272 - root_mean_squared_error: 0.1646 - val_loss: 65158.8320 - val_root_mean_squared_error: 255.2623\n",
      "Epoch 84/100\n",
      "\u001b[1m79/79\u001b[0m \u001b[32m━━━━━━━━━━━━━━━━━━━━\u001b[0m\u001b[37m\u001b[0m \u001b[1m1s\u001b[0m 9ms/step - loss: 0.0281 - root_mean_squared_error: 0.1669 - val_loss: 65177.2969 - val_root_mean_squared_error: 255.2984\n",
      "Epoch 85/100\n",
      "\u001b[1m79/79\u001b[0m \u001b[32m━━━━━━━━━━━━━━━━━━━━\u001b[0m\u001b[37m\u001b[0m \u001b[1m1s\u001b[0m 9ms/step - loss: 0.0274 - root_mean_squared_error: 0.1648 - val_loss: 65176.8125 - val_root_mean_squared_error: 255.2975\n",
      "Epoch 86/100\n",
      "\u001b[1m79/79\u001b[0m \u001b[32m━━━━━━━━━━━━━━━━━━━━\u001b[0m\u001b[37m\u001b[0m \u001b[1m1s\u001b[0m 9ms/step - loss: 0.0257 - root_mean_squared_error: 0.1600 - val_loss: 65170.1914 - val_root_mean_squared_error: 255.2845\n",
      "Epoch 87/100\n",
      "\u001b[1m79/79\u001b[0m \u001b[32m━━━━━━━━━━━━━━━━━━━━\u001b[0m\u001b[37m\u001b[0m \u001b[1m1s\u001b[0m 9ms/step - loss: 0.0244 - root_mean_squared_error: 0.1559 - val_loss: 65161.3984 - val_root_mean_squared_error: 255.2673\n",
      "Epoch 88/100\n",
      "\u001b[1m79/79\u001b[0m \u001b[32m━━━━━━━━━━━━━━━━━━━━\u001b[0m\u001b[37m\u001b[0m \u001b[1m1s\u001b[0m 9ms/step - loss: 0.0311 - root_mean_squared_error: 0.1760 - val_loss: 65173.8945 - val_root_mean_squared_error: 255.2918\n",
      "Epoch 89/100\n",
      "\u001b[1m79/79\u001b[0m \u001b[32m━━━━━━━━━━━━━━━━━━━━\u001b[0m\u001b[37m\u001b[0m \u001b[1m1s\u001b[0m 9ms/step - loss: 0.0305 - root_mean_squared_error: 0.1735 - val_loss: 65194.7344 - val_root_mean_squared_error: 255.3326\n",
      "Epoch 90/100\n",
      "\u001b[1m79/79\u001b[0m \u001b[32m━━━━━━━━━━━━━━━━━━━━\u001b[0m\u001b[37m\u001b[0m \u001b[1m1s\u001b[0m 9ms/step - loss: 0.0249 - root_mean_squared_error: 0.1574 - val_loss: 65184.4375 - val_root_mean_squared_error: 255.3124\n",
      "Epoch 91/100\n",
      "\u001b[1m79/79\u001b[0m \u001b[32m━━━━━━━━━━━━━━━━━━━━\u001b[0m\u001b[37m\u001b[0m \u001b[1m1s\u001b[0m 9ms/step - loss: 0.0304 - root_mean_squared_error: 0.1733 - val_loss: 65175.1133 - val_root_mean_squared_error: 255.2942\n",
      "Epoch 92/100\n",
      "\u001b[1m79/79\u001b[0m \u001b[32m━━━━━━━━━━━━━━━━━━━━\u001b[0m\u001b[37m\u001b[0m \u001b[1m1s\u001b[0m 9ms/step - loss: 0.0390 - root_mean_squared_error: 0.1960 - val_loss: 65186.0703 - val_root_mean_squared_error: 255.3156\n",
      "Epoch 93/100\n",
      "\u001b[1m79/79\u001b[0m \u001b[32m━━━━━━━━━━━━━━━━━━━━\u001b[0m\u001b[37m\u001b[0m \u001b[1m1s\u001b[0m 9ms/step - loss: 0.0233 - root_mean_squared_error: 0.1521 - val_loss: 65651.9297 - val_root_mean_squared_error: 256.2263\n",
      "Epoch 94/100\n",
      "\u001b[1m79/79\u001b[0m \u001b[32m━━━━━━━━━━━━━━━━━━━━\u001b[0m\u001b[37m\u001b[0m \u001b[1m1s\u001b[0m 9ms/step - loss: 0.0285 - root_mean_squared_error: 0.1685 - val_loss: 65640.5078 - val_root_mean_squared_error: 256.2040\n",
      "Epoch 95/100\n",
      "\u001b[1m79/79\u001b[0m \u001b[32m━━━━━━━━━━━━━━━━━━━━\u001b[0m\u001b[37m\u001b[0m \u001b[1m1s\u001b[0m 9ms/step - loss: 0.0279 - root_mean_squared_error: 0.1665 - val_loss: 65644.6562 - val_root_mean_squared_error: 256.2121\n",
      "Epoch 96/100\n",
      "\u001b[1m79/79\u001b[0m \u001b[32m━━━━━━━━━━━━━━━━━━━━\u001b[0m\u001b[37m\u001b[0m \u001b[1m1s\u001b[0m 9ms/step - loss: 0.0224 - root_mean_squared_error: 0.1488 - val_loss: 65625.1016 - val_root_mean_squared_error: 256.1740\n",
      "Epoch 97/100\n",
      "\u001b[1m79/79\u001b[0m \u001b[32m━━━━━━━━━━━━━━━━━━━━\u001b[0m\u001b[37m\u001b[0m \u001b[1m1s\u001b[0m 9ms/step - loss: 0.0287 - root_mean_squared_error: 0.1693 - val_loss: 65647.0000 - val_root_mean_squared_error: 256.2167\n",
      "Epoch 98/100\n",
      "\u001b[1m79/79\u001b[0m \u001b[32m━━━━━━━━━━━━━━━━━━━━\u001b[0m\u001b[37m\u001b[0m \u001b[1m1s\u001b[0m 9ms/step - loss: 0.0337 - root_mean_squared_error: 0.1830 - val_loss: 65661.4375 - val_root_mean_squared_error: 256.2449\n",
      "Epoch 99/100\n",
      "\u001b[1m79/79\u001b[0m \u001b[32m━━━━━━━━━━━━━━━━━━━━\u001b[0m\u001b[37m\u001b[0m \u001b[1m1s\u001b[0m 9ms/step - loss: 0.0339 - root_mean_squared_error: 0.1831 - val_loss: 65670.4297 - val_root_mean_squared_error: 256.2624\n",
      "Epoch 100/100\n",
      "\u001b[1m79/79\u001b[0m \u001b[32m━━━━━━━━━━━━━━━━━━━━\u001b[0m\u001b[37m\u001b[0m \u001b[1m1s\u001b[0m 9ms/step - loss: 0.0266 - root_mean_squared_error: 0.1630 - val_loss: 65640.2734 - val_root_mean_squared_error: 256.2036\n"
     ]
    },
    {
     "data": {
      "text/plain": [
       "<keras.src.callbacks.history.History at 0x2762e9d6690>"
      ]
     },
     "execution_count": 589,
     "metadata": {},
     "output_type": "execute_result"
    }
   ],
   "source": [
    "model1.fit(x_train_standard, y_train_scaled, validation_data=(x_val, y_val), epochs = 100, callbacks = [cp])"
   ]
  },
  {
   "cell_type": "code",
   "execution_count": 591,
   "metadata": {},
   "outputs": [
    {
     "name": "stderr",
     "output_type": "stream",
     "text": [
      "WARNING:absl:Compiled the loaded model, but the compiled metrics have yet to be built. `model.compile_metrics` will be empty until you train or evaluate the model.\n"
     ]
    },
    {
     "name": "stdout",
     "output_type": "stream",
     "text": [
      "\u001b[1m79/79\u001b[0m \u001b[32m━━━━━━━━━━━━━━━━━━━━\u001b[0m\u001b[37m\u001b[0m \u001b[1m0s\u001b[0m 4ms/step\n"
     ]
    },
    {
     "data": {
      "text/html": [
       "<div>\n",
       "<style scoped>\n",
       "    .dataframe tbody tr th:only-of-type {\n",
       "        vertical-align: middle;\n",
       "    }\n",
       "\n",
       "    .dataframe tbody tr th {\n",
       "        vertical-align: top;\n",
       "    }\n",
       "\n",
       "    .dataframe thead th {\n",
       "        text-align: right;\n",
       "    }\n",
       "</style>\n",
       "<table border=\"1\" class=\"dataframe\">\n",
       "  <thead>\n",
       "    <tr style=\"text-align: right;\">\n",
       "      <th></th>\n",
       "      <th>train_predictions</th>\n",
       "      <th>Actuals</th>\n",
       "    </tr>\n",
       "  </thead>\n",
       "  <tbody>\n",
       "    <tr>\n",
       "      <th>0</th>\n",
       "      <td>-0.469395</td>\n",
       "      <td>1.246000</td>\n",
       "    </tr>\n",
       "    <tr>\n",
       "      <th>1</th>\n",
       "      <td>-0.469395</td>\n",
       "      <td>1.186667</td>\n",
       "    </tr>\n",
       "    <tr>\n",
       "      <th>2</th>\n",
       "      <td>-0.469395</td>\n",
       "      <td>1.212000</td>\n",
       "    </tr>\n",
       "    <tr>\n",
       "      <th>3</th>\n",
       "      <td>-0.469395</td>\n",
       "      <td>1.230000</td>\n",
       "    </tr>\n",
       "    <tr>\n",
       "      <th>4</th>\n",
       "      <td>-0.469395</td>\n",
       "      <td>1.264000</td>\n",
       "    </tr>\n",
       "    <tr>\n",
       "      <th>...</th>\n",
       "      <td>...</td>\n",
       "      <td>...</td>\n",
       "    </tr>\n",
       "    <tr>\n",
       "      <th>2495</th>\n",
       "      <td>-0.469395</td>\n",
       "      <td>93.066666</td>\n",
       "    </tr>\n",
       "    <tr>\n",
       "      <th>2496</th>\n",
       "      <td>-0.469395</td>\n",
       "      <td>110.599998</td>\n",
       "    </tr>\n",
       "    <tr>\n",
       "      <th>2497</th>\n",
       "      <td>-0.469395</td>\n",
       "      <td>103.733330</td>\n",
       "    </tr>\n",
       "    <tr>\n",
       "      <th>2498</th>\n",
       "      <td>-0.469395</td>\n",
       "      <td>102.866669</td>\n",
       "    </tr>\n",
       "    <tr>\n",
       "      <th>2499</th>\n",
       "      <td>-0.469395</td>\n",
       "      <td>98.477333</td>\n",
       "    </tr>\n",
       "  </tbody>\n",
       "</table>\n",
       "<p>2500 rows × 2 columns</p>\n",
       "</div>"
      ],
      "text/plain": [
       "      train_predictions     Actuals\n",
       "0             -0.469395    1.246000\n",
       "1             -0.469395    1.186667\n",
       "2             -0.469395    1.212000\n",
       "3             -0.469395    1.230000\n",
       "4             -0.469395    1.264000\n",
       "...                 ...         ...\n",
       "2495          -0.469395   93.066666\n",
       "2496          -0.469395  110.599998\n",
       "2497          -0.469395  103.733330\n",
       "2498          -0.469395  102.866669\n",
       "2499          -0.469395   98.477333\n",
       "\n",
       "[2500 rows x 2 columns]"
      ]
     },
     "execution_count": 591,
     "metadata": {},
     "output_type": "execute_result"
    }
   ],
   "source": [
    "from tensorflow.keras.models import load_model\n",
    "model1 = load_model('model1.h5')\n",
    "train_predictions = model1.predict(x_train).flatten()\n",
    "train_results = pd.DataFrame(data = {'train_predictions':train_predictions.flatten(),'Actuals':y_train.flatten()})\n",
    "train_results"
   ]
  }
 ],
 "metadata": {
  "kernelspec": {
   "display_name": "Python 3",
   "language": "python",
   "name": "python3"
  },
  "language_info": {
   "codemirror_mode": {
    "name": "ipython",
    "version": 3
   },
   "file_extension": ".py",
   "mimetype": "text/x-python",
   "name": "python",
   "nbconvert_exporter": "python",
   "pygments_lexer": "ipython3",
   "version": "3.11.9"
  }
 },
 "nbformat": 4,
 "nbformat_minor": 2
}
