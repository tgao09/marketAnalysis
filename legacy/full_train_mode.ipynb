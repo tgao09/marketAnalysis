{
 "cells": [
  {
   "cell_type": "code",
   "execution_count": 10,
   "metadata": {},
   "outputs": [],
   "source": [
    "import yfinance as yf\n",
    "import pandas as pd"
   ]
  },
  {
   "cell_type": "code",
   "execution_count": 11,
   "metadata": {},
   "outputs": [],
   "source": [
    "tickerName = input(\"Ticker:\")\n",
    "period = input(\"Period:\")\n",
    "interval = input(\"Interval:\")"
   ]
  },
  {
   "cell_type": "code",
   "execution_count": 12,
   "metadata": {},
   "outputs": [],
   "source": [
    "ticker = yf.Ticker(tickerName)\n",
    "df = ticker.history(period = period, interval = interval)\n",
    "df = df.drop(['Dividends', 'Stock Splits'], axis = 1)\n",
    "df.to_csv(f\"./stock_data/{tickerName}.csv\")\n",
    "df = pd.read_csv(f\"./stock_data/{tickerName}.csv\")"
   ]
  },
  {
   "cell_type": "code",
   "execution_count": 13,
   "metadata": {},
   "outputs": [],
   "source": [
    "df = df.assign(**{'Open(t-1)': df['Open'].shift(-1)},\n",
    "                   **{'Close(t-1)': df['Close'].shift(-1)},\n",
    "                   **{'High(t-1)': df['High'].shift(-1)},\n",
    "                   **{'Low(t-1)': df['Low'].shift(-1)},\n",
    "                   **{'Volume(t-1)': df['Volume'].shift(-1)},\n",
    "                   **{'Open(t-2)': df['Open'].shift(-2)},\n",
    "                   **{'Close(t-2)': df['Close'].shift(-2)},\n",
    "                   **{'High(t-2)': df['High'].shift(-2)},\n",
    "                   **{'Low(t-2)': df['Low'].shift(-2)},\n",
    "                   **{'Volume(t-2)': df['Volume'].shift(-2)},\n",
    "                   **{'Open(t-3)': df['Open'].shift(-3)},\n",
    "                   **{'Close(t-3)': df['Close'].shift(-3)},\n",
    "                   **{'High(t-3)': df['High'].shift(-3)},\n",
    "                   **{'Low(t-3)': df['Low'].shift(-3)},\n",
    "                   **{'Volume(t-3)': df['Volume'].shift(-3)})"
   ]
  },
  {
   "cell_type": "code",
   "execution_count": 14,
   "metadata": {},
   "outputs": [
    {
     "name": "stdout",
     "output_type": "stream",
     "text": [
      "Index([0], dtype='int64')\n"
     ]
    }
   ],
   "source": [
    "df.drop(['High', 'Low', 'Close', 'Volume'], axis = 1)\n",
    "df = df.dropna()\n",
    "\n",
    "df = df.copy()\n",
    "#df['Datetime'] = pd.to_datetime(df['Datetime'], utc = True)\n",
    "#df = df.set_index('Datetime')\n",
    "print(df.index)"
   ]
  },
  {
   "cell_type": "code",
   "execution_count": 15,
   "metadata": {},
   "outputs": [],
   "source": [
    "x = df[['Open',\n",
    "        'Open(t-1)', 'Close(t-1)', 'High(t-1)', 'Low(t-1)', 'Volume(t-1)',\n",
    "        'Open(t-2)', 'Close(t-2)', 'High(t-2)', 'Low(t-2)', 'Volume(t-2)',\n",
    "        'Open(t-3)', 'Close(t-3)', 'High(t-3)', 'Low(t-3)', 'Volume(t-3)']].values\n",
    "y = df['Close'].values"
   ]
  },
  {
   "cell_type": "code",
   "execution_count": 16,
   "metadata": {},
   "outputs": [],
   "source": [
    "try:\n",
    "    x_full_train = df.drop(['Close', 'Datetime', 'High', 'Low', 'Volume'], axis = 1)\n",
    "except:\n",
    "    x_full_train = df.drop(['Close', 'Date', 'High', 'Low', 'Volume'], axis = 1)\n",
    "    \n",
    "y_full_train = df['Close']"
   ]
  },
  {
   "cell_type": "code",
   "execution_count": 17,
   "metadata": {},
   "outputs": [],
   "source": [
    "from sklearn.linear_model import LinearRegression\n",
    "from sklearn.metrics import confusion_matrix, accuracy_score\n",
    "import statsmodels.api as sm\n",
    "\n",
    "regressor = LinearRegression()\n",
    "\n",
    "model = regressor.fit(x_full_train, y_full_train)"
   ]
  },
  {
   "cell_type": "code",
   "execution_count": 18,
   "metadata": {},
   "outputs": [
    {
     "name": "stderr",
     "output_type": "stream",
     "text": [
      "C:\\Users\\Tony\\AppData\\Local\\Packages\\PythonSoftwareFoundation.Python.3.11_qbz5n2kfra8p0\\LocalCache\\local-packages\\Python311\\site-packages\\sklearn\\utils\\validation.py:2739: UserWarning: X does not have valid feature names, but LinearRegression was fitted with feature names\n",
      "  warnings.warn(\n"
     ]
    },
    {
     "data": {
      "text/plain": [
       "array([130.74989319])"
      ]
     },
     "execution_count": 18,
     "metadata": {},
     "output_type": "execute_result"
    }
   ],
   "source": [
    "data_for_next_close = [float(input(\"Open:\")), \n",
    "                        df['Open'].iloc[-1], df['Close'].iloc[-1], df['High'].iloc[-1], df['Low'].iloc[-1], df['Volume'].iloc[-1],\n",
    "                        df['Open(t-1)'].iloc[-1], df['Close(t-1)'].iloc[-1], df['High(t-1)'].iloc[-1], df['Low(t-1)'].iloc[-1], df['Volume(t-1)'].iloc[-1],\n",
    "                        df['Open(t-2)'].iloc[-1], df['Close(t-2)'].iloc[-1], df['High(t-2)'].iloc[-1], df['Low(t-2)'].iloc[-1], df['Volume(t-2)'].iloc[-1]]\n",
    "\n",
    "prediction = regressor.predict([data_for_next_close])\n",
    "prediction"
   ]
  }
 ],
 "metadata": {
  "kernelspec": {
   "display_name": "Python 3",
   "language": "python",
   "name": "python3"
  },
  "language_info": {
   "codemirror_mode": {
    "name": "ipython",
    "version": 3
   },
   "file_extension": ".py",
   "mimetype": "text/x-python",
   "name": "python",
   "nbconvert_exporter": "python",
   "pygments_lexer": "ipython3",
   "version": "3.11.9"
  }
 },
 "nbformat": 4,
 "nbformat_minor": 2
}
